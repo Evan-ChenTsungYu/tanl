{
  "nbformat": 4,
  "nbformat_minor": 0,
  "metadata": {
    "colab": {
      "name": "TANL_amazon.ipynb",
      "provenance": [],
      "mount_file_id": "1lVw0qq_iU1rbw452vjCdz30CnaK7upyE",
      "authorship_tag": "ABX9TyODVc5oxUUZjwSL9Hjlmcbo",
      "include_colab_link": true
    },
    "kernelspec": {
      "name": "python3",
      "display_name": "Python 3"
    },
    "language_info": {
      "name": "python"
    }
  },
  "cells": [
    {
      "cell_type": "markdown",
      "metadata": {
        "id": "view-in-github",
        "colab_type": "text"
      },
      "source": [
        "<a href=\"https://colab.research.google.com/github/Evan-ChenTsungYu/tanl/blob/main/TANL_amazon.ipynb\" target=\"_parent\"><img src=\"https://colab.research.google.com/assets/colab-badge.svg\" alt=\"Open In Colab\"/></a>"
      ]
    },
    {
      "cell_type": "code",
      "execution_count": 1,
      "metadata": {
        "colab": {
          "base_uri": "https://localhost:8080/"
        },
        "id": "X4Y1IdrJefZZ",
        "outputId": "881779cf-e1ed-45e4-c8a4-174b9559c82e"
      },
      "outputs": [
        {
          "output_type": "stream",
          "name": "stdout",
          "text": [
            "\u001b[31mERROR: Could not find a version that satisfies the requirement tanl (from versions: none)\u001b[0m\n",
            "\u001b[31mERROR: No matching distribution found for tanl\u001b[0m\n"
          ]
        }
      ],
      "source": [
        ""
      ]
    },
    {
      "cell_type": "code",
      "source": [
        ""
      ],
      "metadata": {
        "id": "rs4GkloTfgTd"
      },
      "execution_count": null,
      "outputs": []
    }
  ]
}